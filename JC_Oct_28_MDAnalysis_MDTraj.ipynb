{
 "cells": [
  {
   "cell_type": "code",
   "execution_count": 1,
   "metadata": {
    "collapsed": false
   },
   "outputs": [],
   "source": [
    "%load_ext autoreload\n",
    "%autoreload 2\n",
    "import MDAnalysis\n",
    "import mdtraj\n",
    "import numpy as np\n",
    "import scipy\n",
    "import matplotlib.pyplot as plt\n",
    "%matplotlib inline"
   ]
  },
  {
   "cell_type": "code",
   "execution_count": 2,
   "metadata": {
    "collapsed": true
   },
   "outputs": [],
   "source": [
    "from MDAnalysis.tests.datafiles import GRO, XTC #test GROMACS data for examples below"
   ]
  },
  {
   "cell_type": "code",
   "execution_count": 3,
   "metadata": {
    "collapsed": false
   },
   "outputs": [
    {
     "name": "stdout",
     "output_type": "stream",
     "text": [
      "frame: 0\n",
      "frame: 1\n",
      "frame: 2\n",
      "frame: 3\n",
      "frame: 4\n",
      "frame: 5\n",
      "frame: 6\n",
      "frame: 7\n",
      "frame: 8\n",
      "frame: 9\n"
     ]
    }
   ],
   "source": [
    "#iterate through test trajectory and track the maximum and minimum distance between all pairs of CA particles using MDAnalysis\n",
    "u = MDAnalysis.Universe(GRO, XTC) #create Universe object\n",
    "CA_selection = u.select_atoms('name CA') #this selection will update automatically as we move through trajectory\n",
    "#place results in these lists as we iterate through trajectory:\n",
    "list_max_distances = [] \n",
    "list_min_distances = []\n",
    "\n",
    "for ts in u.trajectory:\n",
    "    CA_coordinates = CA_selection.coordinates() #expose numpy array of coords\n",
    "    distance_matrix = scipy.spatial.distance.cdist(CA_coordinates, CA_coordinates)\n",
    "    maximum_distance = distance_matrix.max()\n",
    "    minimum_distance = distance_matrix[distance_matrix != 0].min()\n",
    "    list_max_distances.append(maximum_distance)\n",
    "    list_min_distances.append(minimum_distance)\n",
    "    print 'frame:', ts.frame"
   ]
  },
  {
   "cell_type": "code",
   "execution_count": 4,
   "metadata": {
    "collapsed": false
   },
   "outputs": [
    {
     "data": {
      "text/plain": [
       "<matplotlib.legend.Legend at 0x10ac20bd0>"
      ]
     },
     "execution_count": 4,
     "metadata": {},
     "output_type": "execute_result"
    },
    {
     "data": {
      "image/png": "[encoded data removed]",
      "text/plain": [
       "<matplotlib.figure.Figure at 0x10ac20c50>"
      ]
     },
     "metadata": {},
     "output_type": "display_data"
    }
   ],
   "source": [
    "#plot results from MDAnalysis:\n",
    "fig_MDA = plt.figure()\n",
    "ax = fig_MDA.add_subplot(111)\n",
    "ax.plot(np.arange(u.trajectory.n_frames), list_max_distances, c= 'blue', label = 'max')\n",
    "ax.plot(np.arange(u.trajectory.n_frames), list_min_distances, c= 'red', label = 'min')\n",
    "ax.set_xlabel('Frame Number')\n",
    "ax.set_ylabel('Distance ($\\AA$)')\n",
    "ax.legend(loc=5)"
   ]
  },
  {
   "cell_type": "code",
   "execution_count": 5,
   "metadata": {
    "collapsed": false
   },
   "outputs": [
    {
     "name": "stdout",
     "output_type": "stream",
     "text": [
      "time: [ 0.]\n",
      "time: [ 100.00000763]\n",
      "time: [ 200.00001526]\n",
      "time: [ 300.]\n",
      "time: [ 400.00003052]\n",
      "time: [ 500.00003052]\n",
      "time: [ 600.]\n",
      "time: [ 700.00006104]\n",
      "time: [ 800.00006104]\n",
      "time: [ 900.00006104]\n"
     ]
    }
   ],
   "source": [
    "#repeat the trajectory analysis using MDTraj (probably not the optimal way to do it--my first time using MDtraj !)\n",
    "t = mdtraj.load(XTC, top = GRO)\n",
    "topology  = t.topology\n",
    "list_max_distances = []\n",
    "list_min_distances = []\n",
    "\n",
    "for ts in t:\n",
    "    CA_indices = ts.topology.select('name CA')\n",
    "    CA_coords = ts.xyz[0][CA_indices]\n",
    "    distance_matrix = scipy.spatial.distance.cdist(CA_coords, CA_coords)\n",
    "    max_distance = distance_matrix.max()\n",
    "    min_distance = distance_matrix[distance_matrix != 0].min()\n",
    "    list_max_distances.append(max_distance)\n",
    "    list_min_distances.append(min_distance)\n",
    "    print 'time:', ts._time"
   ]
  },
  {
   "cell_type": "code",
   "execution_count": 6,
   "metadata": {
    "collapsed": false
   },
   "outputs": [
    {
     "data": {
      "text/plain": [
       "<matplotlib.legend.Legend at 0x10d1a7f10>"
      ]
     },
     "execution_count": 6,
     "metadata": {},
     "output_type": "execute_result"
    },
    {
     "data": {
      "image/png": "[encoded data removed]",
      "text/plain": [
       "<matplotlib.figure.Figure at 0x10d2698d0>"
      ]
     },
     "metadata": {},
     "output_type": "display_data"
    }
   ],
   "source": [
    "#plot mdtraj results\n",
    "fig_mdtraj = plt.figure()\n",
    "ax = fig_mdtraj.add_subplot(111)\n",
    "ax.plot(np.arange(t.n_frames), list_max_distances, c= 'blue', label = 'max')\n",
    "ax.plot(np.arange(t.n_frames), list_min_distances, c= 'red', label = 'min')\n",
    "ax.set_xlabel('Frame Number')\n",
    "ax.set_ylabel('Distance (nm)')\n",
    "ax.legend(loc=5)\n"
   ]
  },
  {
   "cell_type": "code",
   "execution_count": 7,
   "metadata": {
    "collapsed": true
   },
   "outputs": [],
   "source": [
    "#the results are the same, apart from MDTraj not converting the distance units like MDAnalysis does"
   ]
  }
 ],
 "metadata": {
  "kernelspec": {
   "display_name": "Python 2",
   "language": "python",
   "name": "python2"
  },
  "language_info": {
   "codemirror_mode": {
    "name": "ipython",
    "version": 2
   },
   "file_extension": ".py",
   "mimetype": "text/x-python",
   "name": "python",
   "nbconvert_exporter": "python",
   "pygments_lexer": "ipython2",
   "version": "2.7.10"
  }
 },
 "nbformat": 4,
 "nbformat_minor": 0
}
